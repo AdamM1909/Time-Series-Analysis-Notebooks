{
 "cells": [
  {
   "cell_type": "code",
   "execution_count": 76,
   "id": "d8a0552e",
   "metadata": {},
   "outputs": [],
   "source": [
    "import yfinance as yf\n",
    "import pandas as pd\n",
    "import numpy as np\n",
    "import matplotlib.pyplot as plt\n",
    "from datetime import datetime, date\n",
    "import statsmodels.api as sm\n",
    "from statsmodels.tsa.stattools import adfuller, coint\n",
    "from statsmodels.tsa.vector_ar.vecm import coint_johansen"
   ]
  },
  {
   "cell_type": "code",
   "execution_count": 128,
   "id": "53f6e161",
   "metadata": {},
   "outputs": [],
   "source": [
    "class Stock_Data_Fetcher():\n",
    "    def __init__(self, stocks, start_date, end_date=None):\n",
    "        self.stocks = stocks\n",
    "        self.start_date = start_date\n",
    "        self.end_date = end_date if end_date is not None else date.today().strftime('%Y-%m-%d')\n",
    "        self.data = self.fetch_stock_data()\n",
    "\n",
    "    def fetch_stock_data(self):\n",
    "        data = yf.download(self.stocks, start=self.start_date, end=self.end_date)['Adj Close']\n",
    "        return data\n",
    "    \n",
    "    def calculate_log_returns(self):\n",
    "        self.log_returns = self.data.pct_change().dropna()\n",
    "        self.log_returns = self.log_returns.apply(lambda x: np.log(1 + x))\n"
   ]
  },
  {
   "cell_type": "markdown",
   "id": "93222862",
   "metadata": {},
   "source": [
    "# Pairs Trading Maths\n",
    "\n",
    "For two log-returns $y_{1,t}, y_{2,t}$ defined by  \n",
    "\n",
    "$y_{1,t} \\equiv \\gamma x_t + \\epsilon_{1,t}$ \\\n",
    "$y_{2,t} \\equiv x_t + \\epsilon_{2,t}$\n",
    "\n",
    "where $x_t$ is a random walk common trend (i.e. $x_t - x_{t-1} = \\epsilon_t$), we define the spead $z_t$ as\n",
    "\n",
    "$z_t \\equiv y_{1,t} - \\gamma y_{2,t} = \\gamma x_t + \\epsilon_{1,t} - \\gamma x_t + \\gamma \\epsilon_{2,t}$ \\\n",
    "$ z_t = \\epsilon_{1,t} - \\gamma \\epsilon_{2,t}$\n",
    "\n",
    "Because this spread is mean reverting and stationary for cointegrated time series, we write\n",
    "\n",
    "$z_t = y_{1,t} - \\gamma y_{2,t} \\equiv \\mu + \\epsilon_t$. \n",
    "\n",
    "Rearranging gives, \n",
    "\n",
    "$y_{1,t} = \\mu + \\gamma y_{2,t} + \\epsilon_t$\n",
    "\n",
    "which is the typical form of a linear regression.\n",
    "\n",
    "So what we are really looking for is $\\epsilon_t$ to be stationary for $z_t$ to be stationary, i.i.d and hence mean reverting.\n",
    "\n",
    "We need as good as as estimate for $\\gamma$ as possible so that the spread is \"as i.i.d. as possible\", which will give the best/most mean reverting trading signals."
   ]
  },
  {
   "cell_type": "code",
   "execution_count": 526,
   "id": "699ed1af",
   "metadata": {},
   "outputs": [],
   "source": [
    "class Pairs_Fitter():\n",
    "    def __init__(self, stock_df, split_date=None):\n",
    "        self.df = stock_df\n",
    "        if split_date is not None: \n",
    "            split_date = pd.to_datetime(split_date)\n",
    "            self.df_train = self.df[df.index < split_date]\n",
    "            self.df_test = self.df[df.index >= split_date]\n",
    "        else:\n",
    "            self.df_train = self.df\n",
    "            self.df_test = self.df\n",
    "        \n",
    "        \n",
    "    def adf_test(self, significance_level=0.05):\n",
    "        results = {}\n",
    "        for column in self.df.columns:\n",
    "            result = adfuller(self.df_train[column], autolag=\"AIC\")\n",
    "            stationary = True if result[1] < significance_level else False\n",
    "            results[column] = {\n",
    "                'Test Statistic': result[0],\n",
    "                'p-value': result[1],\n",
    "                'Critical Values': result[4],\n",
    "                'Stationary': stationary\n",
    "            }\n",
    "        return results\n",
    "    \n",
    "    def cointegration_fit_OLS(self, significance_level=0.05):\n",
    "        \n",
    "        \"\"\"\n",
    "        The Null hypothesis is that there is no cointegration, the alternative hypothesis is \n",
    "        that there is cointegrating relationship. To test this see if the residuals of the linear \n",
    "        fit are stationary with an ADF test.\n",
    "        \"\"\"\n",
    "        coint_results = {}\n",
    "        for i, y2 in enumerate(self.df.columns):\n",
    "            for y1 in self.df.columns[i+1:]:\n",
    "                \n",
    "                # Fit the model y1 = mu + gamma*y2 + epsilon.\n",
    "                x = sm.add_constant(self.df_train[y2])\n",
    "                model = sm.OLS(self.df_train[y1], x)\n",
    "                result = model.fit()\n",
    "                resids = result.resid\n",
    "                mu, gamma = result.params\n",
    "                \n",
    "                # Test the residsuls for staionarity.\n",
    "                residual_adf_result = adfuller(resids, autolag=\"AIC\")\n",
    "                stationary_resids = True if residual_adf_result[1] < significance_level else False\n",
    "                \n",
    "                # Store the results.\n",
    "                coint_results[(y1,y2)] = {\n",
    "                    'coint_bool': stationary_resids,\n",
    "                    'gamma': gamma,\n",
    "                    'mu': mu\n",
    "            }\n",
    "                \n",
    "        self.coint_results = coint_results\n",
    "        return coint_results\n",
    "    "
   ]
  },
  {
   "cell_type": "code",
   "execution_count": 527,
   "id": "d8d34bc1",
   "metadata": {},
   "outputs": [],
   "source": [
    "class Trade():\n",
    "    def __init__(self, value, position):\n",
    "        self.history, self.position = [value], position\n",
    "        self.closed = False\n",
    "        self.trade_return = None\n",
    " \n",
    "    def hold(self, value):\n",
    "        assert not self.closed, \"Trade is already closed. No further modifications allowed.\"\n",
    "        self.history.append(value)\n",
    "        \n",
    "    def close(self, value=0):\n",
    "        assert not self.closed, \"Trade is already closed.\"\n",
    "        self.history.append(value)\n",
    "        self.closed = True\n",
    "       \n",
    "    def analyse(self):\n",
    "        assert self.closed, \"Trade is not closed. Cannot analyse.\"\n",
    "        self.calc_return()\n",
    "  \n",
    "    def calc_return(self):\n",
    "        self.trade_return = self.position * (self.history[-1] - self.history[0])\n",
    "        \n",
    "        \n",
    "    def __bool__(self):\n",
    "        return self.closed\n",
    "    \n",
    "class Trade_Logger():\n",
    "    def __init__(self):\n",
    "        self.history = []\n",
    "        \n",
    "    def log(self, trade):\n",
    "        if trade:\n",
    "            self.history.append(trade)\n",
    "        else:\n",
    "            raise ValueError(\"Trade is not closed. Cannot log.\")\n",
    "        \n",
    "    def generate_trade_stats(self):\n",
    "        trade_stats = {'total_return': 0}\n",
    "        for trade in self.history:\n",
    "            trade.analyse()\n",
    "            trade_stats['total_return'] += trade.trade_return\n",
    "        return trade_stats\n",
    "            \n",
    "  \n",
    "class Pairs_Trader():\n",
    "    def __init__(self, pairs_fitter, pair):\n",
    "        self.gamma = pairs_fitter.coint_results[pair]['gamma']\n",
    "        self.df_train = pairs_fitter.df_train[list(pair)]\n",
    "        self.df_test = pairs_fitter.df_test[list(pair)]\n",
    "        self.pair = pair\n",
    "        self.trade_logger = Trade_Logger()\n",
    "        self.z_norm = self.calc_spread()\n",
    "        \n",
    "    def calc_spread(self, test=True):\n",
    "        if test:\n",
    "            d = self.df_test\n",
    "        else:\n",
    "            d = self.df_train\n",
    "            \n",
    "        z = d[self.pair[0]] - self.gamma * d[self.pair[1]]\n",
    "        z_norm = (z - z.mean()) / z.std()\n",
    "        return z_norm\n",
    "        \n",
    "        \n",
    "    def run(self, max_thr=1, min_thr=-1):  \n",
    "        self.positions = pd.Series(index=self.z_norm.index)\n",
    "        pos = 0 \n",
    "        for t, value in enumerate(self.z_norm):\n",
    "            if pos == 0:\n",
    "                if value >= max_thr:\n",
    "                    pos = -1\n",
    "                    trade = Trade(max_thr, pos)\n",
    "                elif value <= min_thr:\n",
    "                    pos = 1\n",
    "                    trade = Trade(min_thr, pos)\n",
    "                else:\n",
    "                    pos = 0\n",
    "\n",
    "            elif pos == -1:\n",
    "                if min_thr < value < 0:\n",
    "                    trade.close()\n",
    "                    self.trade_logger.log(trade)\n",
    "                    pos = 0\n",
    "                elif value <= min_thr:\n",
    "                    trade.close()\n",
    "                    self.trade_logger.log(trade)\n",
    "                    pos = 1\n",
    "                    trade = Trade(min_thr, pos)\n",
    "                else:\n",
    "                    trade.hold(value)\n",
    "\n",
    "            elif pos == 1:\n",
    "                if 0 < value < max_thr:\n",
    "                    trade.close()\n",
    "                    self.trade_logger.log(trade)\n",
    "                    pos = 0\n",
    "                elif value >= max_thr:\n",
    "                    trade.close()\n",
    "                    self.trade_logger.log(trade)\n",
    "                    pos = -1\n",
    "                    trade = Trade(max_thr, pos)\n",
    "                else:\n",
    "                    trade.hold(value)\n",
    "                    \n",
    "            self.positions[t] = pos\n",
    "            \n",
    "    def analyse(self):\n",
    "        self.trade_stats = self.trade_logger.generate_trade_stats()\n",
    "        return self.trade_stats\n",
    "            \n",
    "    def plot(self):\n",
    "            \n",
    "        z_norm_past = self.calc_spread(test=False)\n",
    "        z_tot = pd.concat([z_norm_past, self.z_norm])\n",
    "        fig, ax = plt.subplots(figsize=(12,4))\n",
    "\n",
    "        ax.plot(z_tot, c='b', lw=0.7)\n",
    "        ax.axvline(z_norm_past.index[-1], linestyle='--', color='g')\n",
    "        ax.axhline(y=1, color='grey', linestyle='--', lw=1)\n",
    "        ax.axhline(y=-1, color='grey', linestyle='--', lw=1)\n",
    "        ax.plot(self.positions, c='red')\n",
    "        ax.grid()\n",
    "        "
   ]
  },
  {
   "cell_type": "code",
   "execution_count": 528,
   "id": "cb13a119",
   "metadata": {},
   "outputs": [
    {
     "name": "stdout",
     "output_type": "stream",
     "text": [
      "[*********************100%***********************]  6 of 6 completed\n"
     ]
    }
   ],
   "source": [
    "stocks = ['AAPL', 'GOOGL', 'MSFT', 'AMZN', 'META', 'JPM']\n",
    "start_date = '2022-10-01'\n",
    "end_date = None\n",
    "\n",
    "fetcher = Stock_Data_Fetcher(stocks, start_date, end_date)\n",
    "fetcher.calculate_log_returns()\n",
    "df = fetcher.log_returns"
   ]
  },
  {
   "cell_type": "code",
   "execution_count": 529,
   "id": "661375d6",
   "metadata": {},
   "outputs": [
    {
     "name": "stdout",
     "output_type": "stream",
     "text": [
      "AAPL Returns Stationary: True\n",
      "AMZN Returns Stationary: True\n",
      "GOOGL Returns Stationary: False\n",
      "JPM Returns Stationary: True\n",
      "META Returns Stationary: True\n",
      "MSFT Returns Stationary: True\n"
     ]
    }
   ],
   "source": [
    "split_date = '2023-01-30'\n",
    "fitter = Pairs_Fitter(df, split_date)\n",
    "ADF_results = fitter.adf_test()\n",
    "for stock, results in ADF_results.items():\n",
    "    print(f\"{stock} Returns Stationary: {results['Stationary']}\")\n",
    "# fit the results\n",
    "pair = ('AMZN', 'AAPL')\n",
    "fit_results = fitter.cointegration_fit_OLS()\n",
    "\n",
    "# print(f\"{fit_results[pair]}\")"
   ]
  },
  {
   "cell_type": "code",
   "execution_count": 530,
   "id": "e0b29fd5",
   "metadata": {},
   "outputs": [
    {
     "name": "stderr",
     "output_type": "stream",
     "text": [
      "C:\\Users\\adamm\\AppData\\Local\\Temp\\ipykernel_5832\\3244443337.py:66: FutureWarning: The default dtype for empty Series will be 'object' instead of 'float64' in a future version. Specify a dtype explicitly to silence this warning.\n",
      "  self.positions = pd.Series(index=self.z_norm.index)\n"
     ]
    },
    {
     "data": {
      "image/png": "[encoded data removed]",
      "text/plain": [
       "<Figure size 1200x400 with 1 Axes>"
      ]
     },
     "metadata": {},
     "output_type": "display_data"
    }
   ],
   "source": [
    "pair = ('AMZN', 'AAPL')\n",
    "trader = Pairs_Trader(fitter, pair)\n",
    "trader.run()\n",
    "trader.plot()\n"
   ]
  },
  {
   "cell_type": "code",
   "execution_count": 531,
   "id": "952cd7de",
   "metadata": {},
   "outputs": [
    {
     "data": {
      "text/plain": [
       "{'total_return': 21}"
      ]
     },
     "execution_count": 531,
     "metadata": {},
     "output_type": "execute_result"
    }
   ],
   "source": [
    "trader.analyse()"
   ]
  },
  {
   "cell_type": "code",
   "execution_count": 481,
   "id": "f3ea7539",
   "metadata": {},
   "outputs": [
    {
     "data": {
      "text/plain": [
       "{'total_return': 19}"
      ]
     },
     "execution_count": 481,
     "metadata": {},
     "output_type": "execute_result"
    }
   ],
   "source": [
    "trader.analyse()"
   ]
  },
  {
   "cell_type": "code",
   "execution_count": 475,
   "id": "6061a7be",
   "metadata": {},
   "outputs": [
    {
     "data": {
      "text/plain": [
       "{'total_return': 19}"
      ]
     },
     "execution_count": 475,
     "metadata": {},
     "output_type": "execute_result"
    }
   ],
   "source": [
    "trader.analyse()"
   ]
  },
  {
   "cell_type": "code",
   "execution_count": null,
   "id": "ce75839e",
   "metadata": {},
   "outputs": [],
   "source": [
    "1) Find cointegrated stocks (returns)\n",
    "2) estimate gamma on past data (can be found with a VECM model apptrenty in the Pi matrix)"
   ]
  }
 ],
 "metadata": {
  "kernelspec": {
   "display_name": "Python 3 (ipykernel)",
   "language": "python",
   "name": "python3"
  },
  "language_info": {
   "codemirror_mode": {
    "name": "ipython",
    "version": 3
   },
   "file_extension": ".py",
   "mimetype": "text/x-python",
   "name": "python",
   "nbconvert_exporter": "python",
   "pygments_lexer": "ipython3",
   "version": "3.10.6"
  }
 },
 "nbformat": 4,
 "nbformat_minor": 5
}
