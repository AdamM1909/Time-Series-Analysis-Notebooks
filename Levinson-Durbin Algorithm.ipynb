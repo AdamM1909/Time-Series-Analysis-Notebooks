{
 "cells": [
  {
   "cell_type": "code",
   "execution_count": 1,
   "id": "8a5a8b23",
   "metadata": {},
   "outputs": [],
   "source": [
    "import numpy as np\n",
    "import matplotlib.pyplot as plt"
   ]
  },
  {
   "cell_type": "code",
   "execution_count": 2,
   "id": "c98cfc33",
   "metadata": {},
   "outputs": [],
   "source": [
    "Rs = [1, 0.56,0.168, 0.0504]"
   ]
  },
  {
   "cell_type": "code",
   "execution_count": 3,
   "id": "b37537c5",
   "metadata": {},
   "outputs": [
    {
     "name": "stdout",
     "output_type": "stream",
     "text": [
      "[0.6958315941787018, -0.2666611013718453, 0.08034894398530766]\n"
     ]
    }
   ],
   "source": [
    "k = 0\n",
    "sigma_2 = 0 \n",
    "phis =[[0]*(len(Rs)-1) for i in range(len(Rs)-1)]\n",
    "while k < (len(Rs)-1):\n",
    "# while k < 2:\n",
    "    if k == 0:\n",
    "        phis[0][0] = Rs[1]/Rs[0]\n",
    "        sigma_2 = Rs[0]*(1-phis[0][0]**2)\n",
    "    else:\n",
    "        phis[k][k] = ( (Rs[k+1] - sum([phis[k-1][j]*Rs[k-j] for j in range(0,k)] ) ) / (sigma_2) )    \n",
    "        for j in range(k):\n",
    "            phis[k][j] = phis[k-1][j] - phis[k][k] * phis[k-1][k-1-j]\n",
    "    k += 1\n",
    "print(phis[-1])"
   ]
  },
  {
   "cell_type": "code",
   "execution_count": null,
   "id": "48e4422e",
   "metadata": {},
   "outputs": [],
   "source": []
  }
 ],
 "metadata": {
  "kernelspec": {
   "display_name": "Python 3 (ipykernel)",
   "language": "python",
   "name": "python3"
  },
  "language_info": {
   "codemirror_mode": {
    "name": "ipython",
    "version": 3
   },
   "file_extension": ".py",
   "mimetype": "text/x-python",
   "name": "python",
   "nbconvert_exporter": "python",
   "pygments_lexer": "ipython3",
   "version": "3.10.6"
  }
 },
 "nbformat": 4,
 "nbformat_minor": 5
}
